{
 "cells": [
  {
   "cell_type": "code",
   "execution_count": 2,
   "id": "d98c9461",
   "metadata": {},
   "outputs": [],
   "source": [
    "\n",
    "import pathlib\n",
    "import timeit\n",
    "import math\n",
    "import matplotlib.pyplot as plt\n",
    "import numpy as np\n",
    "import pandas as pd\n",
    "from sklearn import preprocessing\n",
    "from sklearn.ensemble import RandomForestClassifier\n",
    "from sklearn.model_selection import cross_val_score\n",
    "from sklearn.model_selection import train_test_split\n",
    "from tqdm import tqdm\n",
    "\n",
    "\n",
    "# ---------------- DEFINE FUNCTIONS ----------------\n",
    "\n",
    "def predict_random_forest(x_te, x_tr, y_tr, kList):\n",
    "    every_prediction = []\n",
    "    for k in tqdm(kList):\n",
    "        rndf = RandomForestClassifier(n_estimators=k, criterion=\"entropy\")\n",
    "        rndf.fit(x_tr, y_tr)\n",
    "        prediction = rndf.predict(x_te)\n",
    "        every_prediction.append(prediction)\n",
    "    return every_prediction\n",
    "\n",
    "\n",
    "# Check the accuracy of given predictions on the test set y_test\n",
    "def check_accuracy(y_test, predictions):\n",
    "    ground_truth = y_test.to_list()\n",
    "    size = len(ground_truth)\n",
    "    lst = []\n",
    "\n",
    "    for predict in predictions:\n",
    "        count = 0\n",
    "        for i, j in enumerate(ground_truth):\n",
    "            if predict[i] == ground_truth[i]:\n",
    "                count += 1\n",
    "        lst.append(count / size)\n",
    "    return lst\n",
    "\n",
    "\n",
    "# ---------------- PREPARE DATA ----------------\n",
    "\n",
    "# Read the data\n",
    "dirPath = \"../Datasets/purchase600-100cls-15k.lrn.csv\""
   ]
  },
  {
   "cell_type": "code",
   "execution_count": 4,
   "id": "f71dda58",
   "metadata": {},
   "outputs": [
    {
     "name": "stdout",
     "output_type": "stream",
     "text": [
      "\n"
     ]
    },
    {
     "name": "stderr",
     "output_type": "stream",
     "text": [
      "100%|██████████████████████████████████████████████████████████████████████████████████████████████| 6/6 [00:00<00:00,  6.10it/s]\n"
     ]
    },
    {
     "name": "stdout",
     "output_type": "stream",
     "text": [
      "Time:  0.9848371000000071\n",
      "\n"
     ]
    },
    {
     "name": "stderr",
     "output_type": "stream",
     "text": [
      "100%|██████████████████████████████████████████████████████████████████████████████████████████████| 6/6 [00:01<00:00,  5.78it/s]\n"
     ]
    },
    {
     "name": "stdout",
     "output_type": "stream",
     "text": [
      "Time:  1.0399809999999974\n",
      "\n"
     ]
    },
    {
     "name": "stderr",
     "output_type": "stream",
     "text": [
      "100%|██████████████████████████████████████████████████████████████████████████████████████████████| 6/6 [00:01<00:00,  5.35it/s]\n"
     ]
    },
    {
     "name": "stdout",
     "output_type": "stream",
     "text": [
      "Time:  1.1229573000000102\n",
      "\n"
     ]
    },
    {
     "name": "stderr",
     "output_type": "stream",
     "text": [
      "100%|██████████████████████████████████████████████████████████████████████████████████████████████| 6/6 [00:01<00:00,  5.17it/s]\n"
     ]
    },
    {
     "name": "stdout",
     "output_type": "stream",
     "text": [
      "Time:  1.1638808000000012\n",
      "\n"
     ]
    },
    {
     "name": "stderr",
     "output_type": "stream",
     "text": [
      "100%|██████████████████████████████████████████████████████████████████████████████████████████████| 6/6 [00:01<00:00,  4.71it/s]\n"
     ]
    },
    {
     "name": "stdout",
     "output_type": "stream",
     "text": [
      "Time:  1.2763398000000024\n",
      "\n"
     ]
    },
    {
     "name": "stderr",
     "output_type": "stream",
     "text": [
      "100%|██████████████████████████████████████████████████████████████████████████████████████████████| 6/6 [00:01<00:00,  4.55it/s]\n"
     ]
    },
    {
     "name": "stdout",
     "output_type": "stream",
     "text": [
      "Time:  1.3188300999999996\n",
      "\n"
     ]
    },
    {
     "name": "stderr",
     "output_type": "stream",
     "text": [
      "100%|██████████████████████████████████████████████████████████████████████████████████████████████| 6/6 [00:01<00:00,  4.39it/s]\n"
     ]
    },
    {
     "name": "stdout",
     "output_type": "stream",
     "text": [
      "Time:  1.3702559000000036\n",
      "\n"
     ]
    },
    {
     "name": "stderr",
     "output_type": "stream",
     "text": [
      "100%|██████████████████████████████████████████████████████████████████████████████████████████████| 6/6 [00:01<00:00,  4.26it/s]\n"
     ]
    },
    {
     "name": "stdout",
     "output_type": "stream",
     "text": [
      "Time:  1.4087358999999964\n",
      "\n"
     ]
    },
    {
     "name": "stderr",
     "output_type": "stream",
     "text": [
      "100%|██████████████████████████████████████████████████████████████████████████████████████████████| 6/6 [00:01<00:00,  4.16it/s]\n"
     ]
    },
    {
     "name": "stdout",
     "output_type": "stream",
     "text": [
      "Time:  1.443466799999996\n",
      "\n"
     ]
    },
    {
     "name": "stderr",
     "output_type": "stream",
     "text": [
      "100%|██████████████████████████████████████████████████████████████████████████████████████████████| 6/6 [00:01<00:00,  3.65it/s]"
     ]
    },
    {
     "name": "stdout",
     "output_type": "stream",
     "text": [
      "Time:  1.6480836000000068\n"
     ]
    },
    {
     "name": "stderr",
     "output_type": "stream",
     "text": [
      "\n"
     ]
    },
    {
     "data": {
      "image/png": "[encoded data removed]",
      "text/plain": [
       "<Figure size 432x288 with 1 Axes>"
      ]
     },
     "metadata": {
      "needs_background": "light"
     },
     "output_type": "display_data"
    }
   ],
   "source": [
    "# PLOT TIME VS DATASET SIZE\n",
    "\n",
    "selectionSizeRange = list(range(1, 11, 1))\n",
    "runtime = [] \n",
    "for size in selectionSizeRange:\n",
    "    df=pd.read_csv(dirPath)\n",
    "    print()\n",
    "    df = df.sample(int(math.floor(df.shape[0]*size/10)), random_state=35)\n",
    "    # print(df.head())\n",
    "\n",
    "    # Set class-label from true/false to 0/1\n",
    "    df['class'] = df['class'].astype(int)\n",
    "\n",
    "    # Split into input and target variables\n",
    "    X = df.iloc[:, 2:]  # Remove the ID and Class columns\n",
    "    Y = df.iloc[:, 1]\n",
    "\n",
    "    # Scale data\n",
    "    x = X.values # returns a numpy array\n",
    "    min_max_scaler = preprocessing.MinMaxScaler()\n",
    "    #scaler = preprocessing.StandardScaler()\n",
    "    #x_scaled = scaler.fit_transform(x)\n",
    "    x_scaled = min_max_scaler.fit_transform(x)\n",
    "    df_x_scaled = pd.DataFrame(x_scaled)\n",
    "    # print(df_x_scaled)\n",
    "\n",
    "    # Import test-data and scaling the data\n",
    "    pathTest = '../Datasets/breast-cancer-diagnostic.shuf.tes.csv'\n",
    "    dirPathTest = pathlib.Path(pathTest)\n",
    "    df_test=pd.read_csv(dirPathTest)\n",
    "\n",
    "    xTest = df_test.iloc[:, 1:]  # Remove the ID and Class columns\n",
    "    x_test = xTest.values # returns a numpy array\n",
    "\n",
    "    min_max_scaler = preprocessing.MinMaxScaler()\n",
    "    x_scaled = min_max_scaler.fit_transform(x_test)\n",
    "\n",
    "    #scaler = preprocessing.StandardScaler()\n",
    "    #x_scaled = scaler.fit_transform(x_test)\n",
    "\n",
    "    df_test_normalized = pd.DataFrame(x_scaled)\n",
    "    # print(df_test_normalized)\n",
    "\n",
    "\n",
    "    KList = [1, 5, 10, 50, 100, 1000]\n",
    "\n",
    "    X_train, X_test, Y_train, Y_test = train_test_split(df_x_scaled, Y, test_size=0.1 , random_state=35)\n",
    "\n",
    "    # RANDOM FORESTS\n",
    "    start = timeit.default_timer()\n",
    "    all_predictions = predict_random_forest(X_test, X_train, Y_train, KList)\n",
    "    stop = timeit.default_timer()\n",
    "    time = stop - start\n",
    "    print('Time: ', time)\n",
    "    runtime.append(time)\n",
    "\n",
    "fig = plt.figure()\n",
    "newList = [x / 10 for x in selectionSizeRange]\n",
    "plt.scatter(newList, runtime)\n",
    "fig.suptitle('Time vs Dataset size (params: K=[1, 5, 10, 50, 100, 1000])', fontsize=14)\n",
    "plt.xlabel('Dataset Size', fontsize=14)\n",
    "plt.ylabel('Time', fontsize=14)\n",
    "plt.savefig('Purchase_RF_plot_timeVSdatasetsize.png')\n",
    "plt.show()"
   ]
  },
  {
   "cell_type": "code",
   "execution_count": null,
   "id": "bc49cc61",
   "metadata": {},
   "outputs": [],
   "source": []
  }
 ],
 "metadata": {
  "kernelspec": {
   "display_name": "Python 3",
   "language": "python",
   "name": "python3"
  },
  "language_info": {
   "codemirror_mode": {
    "name": "ipython",
    "version": 3
   },
   "file_extension": ".py",
   "mimetype": "text/x-python",
   "name": "python",
   "nbconvert_exporter": "python",
   "pygments_lexer": "ipython3",
   "version": "3.9.8"
  }
 },
 "nbformat": 4,
 "nbformat_minor": 5
}
