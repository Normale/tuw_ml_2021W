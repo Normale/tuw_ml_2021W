{
 "cells": [
  {
   "cell_type": "code",
   "execution_count": 7,
   "id": "bb1793dc",
   "metadata": {},
   "outputs": [],
   "source": [
    "\n",
    "import pathlib\n",
    "import timeit\n",
    "import math\n",
    "import matplotlib.pyplot as plt\n",
    "import numpy as np\n",
    "import pandas as pd\n",
    "from sklearn import preprocessing\n",
    "from sklearn.ensemble import RandomForestClassifier\n",
    "from sklearn.model_selection import cross_val_score\n",
    "from sklearn.model_selection import train_test_split\n",
    "from tqdm import tqdm\n",
    "\n",
    "\n",
    "# ---------------- DEFINE FUNCTIONS ----------------\n",
    "\n",
    "def predict_random_forest(x_te, x_tr, y_tr, kList):\n",
    "    every_prediction = []\n",
    "    for k in tqdm(kList):\n",
    "        rndf = RandomForestClassifier(n_estimators=k, criterion=\"entropy\")\n",
    "        rndf.fit(x_tr, y_tr)\n",
    "        prediction = rndf.predict(x_te)\n",
    "        every_prediction.append(prediction)\n",
    "    return every_prediction\n",
    "\n",
    "\n",
    "# Check the accuracy of given predictions on the test set y_test\n",
    "def check_accuracy(y_test, predictions):\n",
    "    ground_truth = y_test.to_list()\n",
    "    size = len(ground_truth)\n",
    "    lst = []\n",
    "\n",
    "    for predict in predictions:\n",
    "        count = 0\n",
    "        for i, j in enumerate(ground_truth):\n",
    "            if predict[i] == ground_truth[i]:\n",
    "                count += 1\n",
    "        lst.append(count / size)\n",
    "    return lst\n",
    "\n",
    "\n",
    "# ---------------- PREPARE DATA ----------------\n",
    "\n",
    "# Read the data\n",
    "df = pd.read_csv(\"../Datasets/purchase600-100cls-15k.lrn.csv\", encoding=\"ISO-8859-1\")\n"
   ]
  },
  {
   "cell_type": "code",
   "execution_count": 9,
   "id": "406e971f",
   "metadata": {},
   "outputs": [
    {
     "name": "stderr",
     "output_type": "stream",
     "text": [
      "100%|██████████████████████████████████████████████████████████████████████████████████████████████| 6/6 [00:06<00:00,  1.02s/it]\n"
     ]
    },
    {
     "name": "stdout",
     "output_type": "stream",
     "text": [
      "Time:  6.203364500001044\n"
     ]
    },
    {
     "name": "stderr",
     "output_type": "stream",
     "text": [
      "100%|██████████████████████████████████████████████████████████████████████████████████████████████| 6/6 [00:11<00:00,  1.99s/it]\n"
     ]
    },
    {
     "name": "stdout",
     "output_type": "stream",
     "text": [
      "Time:  12.047020999998495\n"
     ]
    },
    {
     "name": "stderr",
     "output_type": "stream",
     "text": [
      "100%|██████████████████████████████████████████████████████████████████████████████████████████████| 6/6 [00:18<00:00,  3.08s/it]\n"
     ]
    },
    {
     "name": "stdout",
     "output_type": "stream",
     "text": [
      "Time:  18.65510170000016\n"
     ]
    },
    {
     "name": "stderr",
     "output_type": "stream",
     "text": [
      "100%|██████████████████████████████████████████████████████████████████████████████████████████████| 6/6 [00:25<00:00,  4.19s/it]\n"
     ]
    },
    {
     "name": "stdout",
     "output_type": "stream",
     "text": [
      "Time:  25.347617600000376\n"
     ]
    },
    {
     "name": "stderr",
     "output_type": "stream",
     "text": [
      "100%|██████████████████████████████████████████████████████████████████████████████████████████████| 6/6 [00:34<00:00,  5.74s/it]\n"
     ]
    },
    {
     "name": "stdout",
     "output_type": "stream",
     "text": [
      "Time:  34.647616799999014\n"
     ]
    },
    {
     "name": "stderr",
     "output_type": "stream",
     "text": [
      "100%|██████████████████████████████████████████████████████████████████████████████████████████████| 6/6 [00:40<00:00,  6.80s/it]\n"
     ]
    },
    {
     "name": "stdout",
     "output_type": "stream",
     "text": [
      "Time:  41.044901299999765\n"
     ]
    },
    {
     "name": "stderr",
     "output_type": "stream",
     "text": [
      "100%|██████████████████████████████████████████████████████████████████████████████████████████████| 6/6 [00:48<00:00,  8.06s/it]\n"
     ]
    },
    {
     "name": "stdout",
     "output_type": "stream",
     "text": [
      "Time:  48.65283819999968\n"
     ]
    },
    {
     "name": "stderr",
     "output_type": "stream",
     "text": [
      "100%|██████████████████████████████████████████████████████████████████████████████████████████████| 6/6 [00:57<00:00,  9.55s/it]\n"
     ]
    },
    {
     "name": "stdout",
     "output_type": "stream",
     "text": [
      "Time:  57.76439510000091\n"
     ]
    },
    {
     "name": "stderr",
     "output_type": "stream",
     "text": [
      "100%|██████████████████████████████████████████████████████████████████████████████████████████████| 6/6 [01:06<00:00, 11.09s/it]\n"
     ]
    },
    {
     "name": "stdout",
     "output_type": "stream",
     "text": [
      "Time:  66.99019279999993\n"
     ]
    },
    {
     "name": "stderr",
     "output_type": "stream",
     "text": [
      "100%|██████████████████████████████████████████████████████████████████████████████████████████████| 6/6 [01:17<00:00, 12.88s/it]\n"
     ]
    },
    {
     "name": "stdout",
     "output_type": "stream",
     "text": [
      "Time:  77.90179349999926\n"
     ]
    }
   ],
   "source": [
    "# PLOT TIME VS DATASET SIZE\n",
    "\n",
    "selectionSizeRange = list(range(1, 11, 1))\n",
    "runtime = [] \n",
    "for size in selectionSizeRange:\n",
    "    df=pd.read_csv(dirPath)\n",
    "    df = df.sample(int(math.floor(df.shape[0]*size/10)), random_state=35)\n",
    "#     print(df.head())\n",
    "\n",
    "    # Split into input and target variables\n",
    "    X = df.iloc[:, 1:-1]  # Remove the ID and Class columns\n",
    "    Y = df.iloc[:, -1]\n",
    "\n",
    "\n",
    "    df_x_scaled = X\n",
    "    \n",
    "    KList = [1, 5, 10, 50, 100, 1000]\n",
    "\n",
    "    X_train, X_test, Y_train, Y_test = train_test_split(df_x_scaled, Y, test_size=0.1 , random_state=35)\n",
    "\n",
    "    # RANDOM FORESTS\n",
    "    start = timeit.default_timer()\n",
    "    all_predictions = predict_random_forest(X_test, X_train, Y_train, KList)\n",
    "    stop = timeit.default_timer()\n",
    "    time = stop - start\n",
    "    print('Time: ', time)\n",
    "    runtime.append(time)\n",
    "\n"
   ]
  },
  {
   "cell_type": "code",
   "execution_count": null,
   "id": "f66c19ec",
   "metadata": {},
   "outputs": [],
   "source": [
    "fig = plt.figure()\n",
    "newList = [x / 10 for x in selectionSizeRange]\n",
    "plt.scatter(newList, runtime)\n",
    "fig.suptitle('Time vs Dataset size (params: K=[1, 5, 10, 50, 100, 1000])', fontsize=14)\n",
    "plt.xlabel('Dataset Size', fontsize=14)\n",
    "plt.ylabel('Time', fontsize=14)\n",
    "plt.savefig('Purchase_RF_plot_timeVSdatasetsize.png')\n",
    "plt.show()"
   ]
  },
  {
   "cell_type": "code",
   "execution_count": null,
   "id": "a9e7c007",
   "metadata": {},
   "outputs": [],
   "source": [
    "runtime"
   ]
  },
  {
   "cell_type": "code",
   "execution_count": null,
   "id": "5233ec4e",
   "metadata": {},
   "outputs": [],
   "source": [
    "runtimes = []\n",
    "for key in runtime.keys():\n",
    "    print(runtime[key])\n",
    "    runtimes.append(sum(runtime[key])/len(runtime[key]))\n",
    "print(runtimes)"
   ]
  }
 ],
 "metadata": {
  "kernelspec": {
   "display_name": "Python 3",
   "language": "python",
   "name": "python3"
  },
  "language_info": {
   "codemirror_mode": {
    "name": "ipython",
    "version": 3
   },
   "file_extension": ".py",
   "mimetype": "text/x-python",
   "name": "python",
   "nbconvert_exporter": "python",
   "pygments_lexer": "ipython3",
   "version": "3.9.8"
  }
 },
 "nbformat": 4,
 "nbformat_minor": 5
}
