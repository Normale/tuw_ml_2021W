{
 "cells": [
  {
   "cell_type": "code",
   "execution_count": 8,
   "id": "92684c81",
   "metadata": {
    "scrolled": true
   },
   "outputs": [],
   "source": [
    "import pathlib\n",
    "import timeit\n",
    "import math\n",
    "import matplotlib.pyplot as plt\n",
    "import numpy as np\n",
    "import pandas as pd\n",
    "from sklearn import preprocessing\n",
    "from sklearn.ensemble import RandomForestClassifier\n",
    "from sklearn.model_selection import cross_val_score\n",
    "from sklearn.model_selection import train_test_split\n",
    "from tqdm import tqdm\n",
    "\n",
    "\n",
    "# ---------------- DEFINE FUNCTIONS ----------------\n",
    "\n",
    "def predict_random_forest(x_te, x_tr, y_tr, kList):\n",
    "    every_prediction = []\n",
    "    for k in tqdm(kList):\n",
    "        rndf = RandomForestClassifier(n_estimators=k, criterion=\"entropy\")\n",
    "        rndf.fit(x_tr, y_tr)\n",
    "        prediction = rndf.predict(x_te)\n",
    "        every_prediction.append(prediction)\n",
    "    return every_prediction\n",
    "\n",
    "\n",
    "# Check the accuracy of given predictions on the test set y_test\n",
    "def check_accuracy(y_test, predictions):\n",
    "    ground_truth = y_test.to_list()\n",
    "    size = len(ground_truth)\n",
    "    lst = []\n",
    "\n",
    "    for predict in predictions:\n",
    "        count = 0\n",
    "        for i, j in enumerate(ground_truth):\n",
    "            if predict[i] == ground_truth[i]:\n",
    "                count += 1\n",
    "        lst.append(count / size)\n",
    "    return lst\n",
    "\n",
    "\n",
    "# ---------------- PREPARE DATA ----------------\n",
    "\n",
    "# PLOT TIME VS DATASET SIZE\n",
    "\n",
    "selectionSizeRange = list(range(1, 11, 1))\n",
    "runtime = [] \n",
    "for size in selectionSizeRange:\n",
    "    df=pd.read_csv(dirPath)\n",
    "    print()\n",
    "    df = df.sample(int(math.floor(df.shape[0]*size/10)), random_state=35)\n",
    "    # print(df.head())\n",
    "\n",
    "    # Set class-label from true/false to 0/1\n",
    "    df['class'] = df['class'].astype(int)\n",
    "\n",
    "    # Split into input and target variables\n",
    "    X = df.iloc[:, 2:]  # Remove the ID and Class columns\n",
    "    Y = df.iloc[:, 1]\n",
    "\n",
    "    # Scale data\n",
    "    x = X.values # returns a numpy array\n",
    "    min_max_scaler = preprocessing.MinMaxScaler()\n",
    "    #scaler = preprocessing.StandardScaler()\n",
    "    #x_scaled = scaler.fit_transform(x)\n",
    "    x_scaled = min_max_scaler.fit_transform(x)\n",
    "    df_x_scaled = pd.DataFrame(x_scaled)\n",
    "    # print(df_x_scaled)\n",
    "\n",
    "    # Import test-data and scaling the data\n",
    "    pathTest = '../Datasets/breast-cancer-diagnostic.shuf.tes.csv'\n",
    "    dirPathTest = pathlib.Path(pathTest)\n",
    "    df_test=pd.read_csv(dirPathTest)\n",
    "\n",
    "    xTest = df_test.iloc[:, 1:]  # Remove the ID and Class columns\n",
    "    x_test = xTest.values # returns a numpy array\n",
    "\n",
    "    min_max_scaler = preprocessing.MinMaxScaler()\n",
    "    x_scaled = min_max_scaler.fit_transform(x_test)\n",
    "\n",
    "    #scaler = preprocessing.StandardScaler()\n",
    "    #x_scaled = scaler.fit_transform(x_test)\n",
    "\n",
    "    df_test_normalized = pd.DataFrame(x_scaled)\n",
    "    # print(df_test_normalized)\n",
    "\n",
    "\n",
    "    KList = [1, 5, 10, 50, 100, 1000]\n",
    "\n",
    "    X_train, X_test, Y_train, Y_test = train_test_split(df_x_scaled, Y, test_size=0.1 , random_state=35)\n",
    "\n",
    "    # RANDOM FORESTS\n",
    "    start = timeit.default_timer()\n",
    "    all_predictions = predict_random_forest(X_test, X_train, Y_train, KList)\n",
    "    stop = timeit.default_timer()\n",
    "    time = stop - start\n",
    "    print('Time: ', time)\n",
    "    runtime.append(time)\n",
    "\n",
    "fig = plt.figure()\n",
    "newList = [x / 10 for x in selectionSizeRange]\n",
    "plt.scatter(newList, runtime)\n",
    "fig.suptitle('Time vs Dataset size (params: K=[1, 5, 10, 50, 100, 1000])', fontsize=14)\n",
    "plt.xlabel('Dataset Size', fontsize=14)\n",
    "plt.ylabel('Time', fontsize=14)\n",
    "plt.savefig('Breastcancer_plot_timeVSdatasetsize.png')\n",
    "plt.show()"
   ]
  },
  {
   "cell_type": "code",
   "execution_count": 32,
   "id": "15987903",
   "metadata": {},
   "outputs": [
    {
     "name": "stdout",
     "output_type": "stream",
     "text": [
      "\n"
     ]
    },
    {
     "name": "stderr",
     "output_type": "stream",
     "text": [
      "100%|██████████████████████████████████████████████████████████████████████████████████████████████| 6/6 [00:00<00:00,  6.49it/s]\n"
     ]
    },
    {
     "name": "stdout",
     "output_type": "stream",
     "text": [
      "Time:  0.926971500000036\n",
      "\n"
     ]
    },
    {
     "name": "stderr",
     "output_type": "stream",
     "text": [
      "100%|██████████████████████████████████████████████████████████████████████████████████████████████| 6/6 [00:00<00:00,  6.24it/s]\n"
     ]
    },
    {
     "name": "stdout",
     "output_type": "stream",
     "text": [
      "Time:  0.9637770000001638\n",
      "\n"
     ]
    },
    {
     "name": "stderr",
     "output_type": "stream",
     "text": [
      "100%|██████████████████████████████████████████████████████████████████████████████████████████████| 6/6 [00:00<00:00,  6.10it/s]\n"
     ]
    },
    {
     "name": "stdout",
     "output_type": "stream",
     "text": [
      "Time:  0.986082099999976\n",
      "\n"
     ]
    },
    {
     "name": "stderr",
     "output_type": "stream",
     "text": [
      "100%|██████████████████████████████████████████████████████████████████████████████████████████████| 6/6 [00:01<00:00,  5.81it/s]\n"
     ]
    },
    {
     "name": "stdout",
     "output_type": "stream",
     "text": [
      "Time:  1.0356543999998848\n",
      "\n"
     ]
    },
    {
     "name": "stderr",
     "output_type": "stream",
     "text": [
      "100%|██████████████████████████████████████████████████████████████████████████████████████████████| 6/6 [00:01<00:00,  5.48it/s]\n"
     ]
    },
    {
     "name": "stdout",
     "output_type": "stream",
     "text": [
      "Time:  1.0970260000001417\n",
      "\n"
     ]
    },
    {
     "name": "stderr",
     "output_type": "stream",
     "text": [
      "100%|██████████████████████████████████████████████████████████████████████████████████████████████| 6/6 [00:01<00:00,  5.41it/s]\n"
     ]
    },
    {
     "name": "stdout",
     "output_type": "stream",
     "text": [
      "Time:  1.1124560000000656\n",
      "\n"
     ]
    },
    {
     "name": "stderr",
     "output_type": "stream",
     "text": [
      "100%|██████████████████████████████████████████████████████████████████████████████████████████████| 6/6 [00:01<00:00,  5.14it/s]\n"
     ]
    },
    {
     "name": "stdout",
     "output_type": "stream",
     "text": [
      "Time:  1.1698725999999624\n",
      "\n"
     ]
    },
    {
     "name": "stderr",
     "output_type": "stream",
     "text": [
      "100%|██████████████████████████████████████████████████████████████████████████████████████████████| 6/6 [00:01<00:00,  4.91it/s]\n"
     ]
    },
    {
     "name": "stdout",
     "output_type": "stream",
     "text": [
      "Time:  1.2254376000000775\n",
      "\n"
     ]
    },
    {
     "name": "stderr",
     "output_type": "stream",
     "text": [
      "100%|██████████████████████████████████████████████████████████████████████████████████████████████| 6/6 [00:01<00:00,  4.55it/s]\n"
     ]
    },
    {
     "name": "stdout",
     "output_type": "stream",
     "text": [
      "Time:  1.321002500000077\n",
      "\n"
     ]
    },
    {
     "name": "stderr",
     "output_type": "stream",
     "text": [
      "100%|██████████████████████████████████████████████████████████████████████████████████████████████| 6/6 [00:01<00:00,  4.49it/s]"
     ]
    },
    {
     "name": "stdout",
     "output_type": "stream",
     "text": [
      "Time:  1.3367062999998325\n"
     ]
    },
    {
     "name": "stderr",
     "output_type": "stream",
     "text": [
      "\n"
     ]
    },
    {
     "data": {
      "image/png": "[encoded data removed]",
      "text/plain": [
       "<Figure size 432x288 with 1 Axes>"
      ]
     },
     "metadata": {
      "needs_background": "light"
     },
     "output_type": "display_data"
    }
   ],
   "source": [
    "# PLOT TIME VS DATASET SIZE\n",
    "\n",
    "selectionSizeRange = list(range(1, 11, 1))\n",
    "runtime = [] \n",
    "for size in selectionSizeRange:\n",
    "    df=pd.read_csv(dirPath)\n",
    "    print()\n",
    "    df = df.sample(int(math.floor(df.shape[0]*size/10)), random_state=35)\n",
    "    # print(df.head())\n",
    "\n",
    "    # Set class-label from true/false to 0/1\n",
    "    df['class'] = df['class'].astype(int)\n",
    "\n",
    "    # Split into input and target variables\n",
    "    X = df.iloc[:, 2:]  # Remove the ID and Class columns\n",
    "    Y = df.iloc[:, 1]\n",
    "\n",
    "    # Scale data\n",
    "    x = X.values # returns a numpy array\n",
    "    min_max_scaler = preprocessing.MinMaxScaler()\n",
    "    #scaler = preprocessing.StandardScaler()\n",
    "    #x_scaled = scaler.fit_transform(x)\n",
    "    x_scaled = min_max_scaler.fit_transform(x)\n",
    "    df_x_scaled = pd.DataFrame(x_scaled)\n",
    "    # print(df_x_scaled)\n",
    "\n",
    "    # Import test-data and scaling the data\n",
    "    pathTest = '../Datasets/breast-cancer-diagnostic.shuf.tes.csv'\n",
    "    dirPathTest = pathlib.Path(pathTest)\n",
    "    df_test=pd.read_csv(dirPathTest)\n",
    "\n",
    "    xTest = df_test.iloc[:, 1:]  # Remove the ID and Class columns\n",
    "    x_test = xTest.values # returns a numpy array\n",
    "\n",
    "    min_max_scaler = preprocessing.MinMaxScaler()\n",
    "    x_scaled = min_max_scaler.fit_transform(x_test)\n",
    "\n",
    "    #scaler = preprocessing.StandardScaler()\n",
    "    #x_scaled = scaler.fit_transform(x_test)\n",
    "\n",
    "    df_test_normalized = pd.DataFrame(x_scaled)\n",
    "    # print(df_test_normalized)\n",
    "\n",
    "\n",
    "    KList = [1, 5, 10, 50, 100, 1000]\n",
    "\n",
    "    X_train, X_test, Y_train, Y_test = train_test_split(df_x_scaled, Y, test_size=0.1 , random_state=35)\n",
    "\n",
    "    # RANDOM FORESTS\n",
    "    start = timeit.default_timer()\n",
    "    all_predictions = predict_random_forest(X_test, X_train, Y_train, KList)\n",
    "    stop = timeit.default_timer()\n",
    "    time = stop - start\n",
    "    print('Time: ', time)\n",
    "    runtime.append(time)\n",
    "\n",
    "fig = plt.figure()\n",
    "newList = [x / 10 for x in selectionSizeRange]\n",
    "plt.scatter(newList, runtime)\n",
    "fig.suptitle('Time vs Dataset size (params: K=[1, 5, 10, 50, 100, 1000])', fontsize=14)\n",
    "plt.xlabel('Dataset Size', fontsize=14)\n",
    "plt.ylabel('Time', fontsize=14)\n",
    "plt.savefig('Breastcancer_RF_plot_timeVSdatasetsize.png')\n",
    "plt.show()"
   ]
  },
  {
   "cell_type": "code",
   "execution_count": null,
   "id": "9441b6f6",
   "metadata": {},
   "outputs": [],
   "source": [
    "# ---------------- APPLY MODEL & TEST EFFICIENCY ----------------\n",
    "\n",
    "r = []\n",
    "t = []\n",
    "runtime = []\n",
    "testSizeRange = list(range(10, 35, 5))\n",
    "KList = [1, 5, 10, 50, 100, 1000]\n",
    "\n",
    "print(\"\\nTRAINING USING RANDOM FOREST\")\n",
    "for testSize in testSizeRange:\n",
    "    X_train, X_test, Y_train, Y_test = train_test_split(df_x_scaled, Y, test_size=testSize / 100, random_state=35)\n",
    "\n",
    "    # RANDOM FORESTS\n",
    "    start = timeit.default_timer()\n",
    "    all_predictions = predict_random_forest(X_test, X_train, Y_train, KList)\n",
    "    stop = timeit.default_timer()\n",
    "    time = stop - start\n",
    "    print('Time: ', time)\n",
    "    results = check_accuracy(Y_test, all_predictions)\n",
    "    print(\"\\nTest size = \", testSize / 100)\n",
    "    print(results)\n",
    "    testSize = testSize / 100\n",
    "    r.append(results)\n",
    "    t.append(testSize)\n",
    "    runtime.append(time)"
   ]
  },
  {
   "cell_type": "code",
   "execution_count": 4,
   "id": "6cd9bbb0",
   "metadata": {},
   "outputs": [
    {
     "name": "stdout",
     "output_type": "stream",
     "text": [
      "[1.2305273999999997, 1.2058998, 1.1646343999999997, 1.1657875999999998, 1.1235160000000004]\n"
     ]
    }
   ],
   "source": [
    "print(runtime)"
   ]
  }
 ],
 "metadata": {
  "kernelspec": {
   "display_name": "Python 3",
   "language": "python",
   "name": "python3"
  },
  "language_info": {
   "codemirror_mode": {
    "name": "ipython",
    "version": 3
   },
   "file_extension": ".py",
   "mimetype": "text/x-python",
   "name": "python",
   "nbconvert_exporter": "python",
   "pygments_lexer": "ipython3",
   "version": "3.9.8"
  }
 },
 "nbformat": 4,
 "nbformat_minor": 5
}
