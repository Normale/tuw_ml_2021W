{
 "cells": [
  {
   "cell_type": "code",
   "execution_count": 3,
   "id": "d98c9461",
   "metadata": {},
   "outputs": [],
   "source": [
    "import pathlib\n",
    "import timeit\n",
    "import math\n",
    "import matplotlib.pyplot as plt\n",
    "import numpy as np\n",
    "import pandas as pd\n",
    "from sklearn import preprocessing\n",
    "from sklearn import svm\n",
    "from sklearn.model_selection import cross_val_score\n",
    "from sklearn.model_selection import train_test_split\n",
    "\n",
    "\n",
    "# ---------------- DEFINE FUNCTIONS ----------------\n",
    "\n",
    "# Train the SVM on the training data and predict using the test data\n",
    "def predict_svm(x_te, x_tr, y_tr):\n",
    "    every_predictions = []\n",
    "    svc = svm.SVC()\n",
    "    svc.fit(x_tr, y_tr)\n",
    "    prediction = svc.predict(x_te)\n",
    "    every_predictions.append(prediction)\n",
    "    return every_predictions\n",
    "\n",
    "\n",
    "# Check the accuracy of given predictions on the test set y_test\n",
    "def check_accuracy(y_test, predictions):\n",
    "    ground_truth = y_test.to_list()\n",
    "    size = len(ground_truth)\n",
    "    lst = []\n",
    "\n",
    "    for predict in predictions:\n",
    "        count = 0\n",
    "        for i, j in enumerate(ground_truth):\n",
    "            if predict[i] == ground_truth[i]:\n",
    "                count += 1\n",
    "        lst.append(count / size)\n",
    "    return lst\n",
    "\n",
    "\n",
    "# ---------------- PREPARE DATA ----------------\n",
    "\n",
    "# Read the data\n",
    "dirPath = \"../Datasets/purchase600-100cls-15k.lrn.csv\""
   ]
  },
  {
   "cell_type": "code",
   "execution_count": null,
   "id": "f71dda58",
   "metadata": {},
   "outputs": [
    {
     "name": "stdout",
     "output_type": "stream",
     "text": [
      "Time:  0.2862850999999864\n",
      "Time:  0.9336797000000843\n",
      "Time:  2.160632600000099\n",
      "Time:  3.8046401000001424\n",
      "Time:  5.852266000000327\n",
      "Time:  8.343380499999967\n",
      "Time:  10.94445880000012\n",
      "Time:  13.875937899999826\n",
      "Time:  16.933915999999954\n"
     ]
    }
   ],
   "source": [
    "# PLOT TIME VS DATASET SIZE\n",
    "\n",
    "selectionSizeRange = list(range(1, 11, 1))\n",
    "runtime = [] \n",
    "for size in selectionSizeRange:\n",
    "    df=pd.read_csv(dirPath)\n",
    "    df = df.sample(int(math.floor(df.shape[0]*size/10)), random_state=35)\n",
    "#     print(df.head())\n",
    "\n",
    "    # Split into input and target variables\n",
    "    X = df.iloc[:, 1:-1]  # Remove the ID and Class columns\n",
    "    Y = df.iloc[:, -1]\n",
    "\n",
    "\n",
    "    df_x_scaled = X\n",
    "    \n",
    "    KList = [1, 5, 10, 50, 100, 1000]\n",
    "\n",
    "    X_train, X_test, Y_train, Y_test = train_test_split(df_x_scaled, Y, test_size=0.1 , random_state=35)\n",
    "\n",
    "    # RANDOM FORESTS\n",
    "    start = timeit.default_timer()\n",
    "    all_predictions = predict_svm(X_test, X_train, Y_train)\n",
    "    stop = timeit.default_timer()\n",
    "    time = stop - start\n",
    "    print('Time: ', time)\n",
    "    runtime.append(time)\n",
    "\n",
    "fig = plt.figure()\n",
    "newList = [x / 10 for x in selectionSizeRange]\n",
    "plt.scatter(newList, runtime)\n",
    "fig.suptitle('Time vs Dataset size', fontsize=14)\n",
    "plt.xlabel('Dataset Size', fontsize=14)\n",
    "plt.ylabel('Time', fontsize=14)\n",
    "plt.savefig('Purchase_SVM_plot_timeVSdatasetsize.png')\n",
    "plt.show()"
   ]
  },
  {
   "cell_type": "code",
   "execution_count": null,
   "id": "bc49cc61",
   "metadata": {},
   "outputs": [],
   "source": []
  }
 ],
 "metadata": {
  "kernelspec": {
   "display_name": "Python 3",
   "language": "python",
   "name": "python3"
  },
  "language_info": {
   "codemirror_mode": {
    "name": "ipython",
    "version": 3
   },
   "file_extension": ".py",
   "mimetype": "text/x-python",
   "name": "python",
   "nbconvert_exporter": "python",
   "pygments_lexer": "ipython3",
   "version": "3.9.8"
  }
 },
 "nbformat": 4,
 "nbformat_minor": 5
}
